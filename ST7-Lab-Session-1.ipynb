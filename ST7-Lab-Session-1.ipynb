{
 "cells": [
  {
   "cell_type": "markdown",
   "id": "95bd90a0-07c9-4007-9e11-4fc43b33a389",
   "metadata": {},
   "source": [
    "# Lab session #1 - ST7-83\n",
    "\n",
    "The goal of this lab session is to manipulate QisKit, and, along the way, double-check what has been said in class.\n",
    "\n",
    "# Some imports"
   ]
  },
  {
   "cell_type": "code",
   "execution_count": null,
   "id": "dbcd0c50-5f01-4065-b1a7-d66431c3bf17",
   "metadata": {},
   "outputs": [],
   "source": [
    "! python -m pip install matplotlib\n",
    "! python -m pip install qiskit qiskit-aer"
   ]
  },
  {
   "cell_type": "code",
   "execution_count": 1,
   "id": "668ea8af-7acc-4082-baa4-ebe222199671",
   "metadata": {},
   "outputs": [],
   "source": [
    "from qiskit import *\n",
    "from qiskit_aer import AerSimulator, StatevectorSimulator\n",
    "import numpy as np\n",
    "from math import pi"
   ]
  },
  {
   "cell_type": "markdown",
   "id": "75ad88ff-4095-4994-a632-3265127afce1",
   "metadata": {},
   "source": [
    "# Some helper functions\n",
    "\n",
    "We are going to use two simulators:\n",
    "* `StateVectorSimulator`: for pure unitary circuits, get the output state when quantum registers are initialized with $|00...00\\rangle$.\n",
    "* `AerSimulator`: for circuits with measurements, perform several runs and collect (classical) results.\n",
    "\n",
    "These are producing sophisticated outputs: the next functions are meant to output them in a readable way.\n",
    "  "
   ]
  },
  {
   "cell_type": "code",
   "execution_count": 2,
   "id": "d77f3a98-a8ce-484d-9ed3-bd7a41dc59a2",
   "metadata": {},
   "outputs": [],
   "source": [
    "def processOneState(st): # Longueur = puissance de 2\n",
    "        s = list(st)\n",
    "        if len(s) == 2:\n",
    "            return {'0' : s[0], '1' : s[1]}\n",
    "        else:\n",
    "            a0 = processOneState(s[:len(s)//2])\n",
    "            a1 = processOneState(s[len(s)//2:])\n",
    "            r = {}\n",
    "            for k in a0:\n",
    "                r['0' + k] = a0[k]\n",
    "            for k in a1:\n",
    "                r['1' + k] = a1[k]\n",
    "            return r\n",
    "\n",
    "def printOneState(d): # get a dict as per processStates output\n",
    "    for k in d:\n",
    "        im = d[k].imag\n",
    "        re = d[k].real\n",
    "        if abs(im) >= 0.001 or abs(re) >= 0.001:\n",
    "            print(\"% .3f + % .3fj |%s>\" % (re,im,k))\n",
    "\n",
    "def printFinalRes(result):\n",
    "    printOneState(processOneState(list(np.asarray(result))))\n",
    "\n",
    "\n",
    "def runStateVector(qc):\n",
    "    simulator = StatevectorSimulator()\n",
    "    job = simulator.run(qc.decompose(reps=6), memory=True)\n",
    "    job_result = job.result()\n",
    "    result = job_result.results[0].to_dict()['data']['statevector']\n",
    "    printFinalRes(result)\n",
    "\n",
    "def runSample(qc,howmany):\n",
    "    simulator = AerSimulator()\n",
    "    job = simulator.run(qc.decompose(reps=6), shots=howmany)\n",
    "    res = dict(job.result().get_counts(qc))\n",
    "    return res"
   ]
  },
  {
   "cell_type": "markdown",
   "id": "ea037479-d74a-4c54-a64d-8bf0f8cc432f",
   "metadata": {},
   "source": [
    "# Examples\n",
    "\n",
    "In this section, we show how to build circuits, print them, and how to use the functions. A summary of native operations can be found here:\n",
    "https://docs.quantum.ibm.com/guides/construct-circuits.\n",
    "\n",
    "All the already defined gates are here: https://docs.quantum.ibm.com/api/qiskit/circuit_library"
   ]
  },
  {
   "cell_type": "code",
   "execution_count": 4,
   "id": "05a1d97d-ae33-47c3-a1f9-16be4b23839b",
   "metadata": {},
   "outputs": [
    {
     "name": "stdout",
     "output_type": "stream",
     "text": [
      "     ┌───┐┌───┐┌───┐     ┌─┐   \n",
      "x_0: ┤ H ├┤ X ├┤ Z ├──■──┤M├───\n",
      "     └───┘└───┘└───┘┌─┴─┐└╥┘┌─┐\n",
      "x_1: ───────────────┤ X ├─╫─┤M├\n",
      "                    └───┘ ║ └╥┘\n",
      "y: 2/═════════════════════╩══╩═\n",
      "                          0  1 \n"
     ]
    }
   ],
   "source": [
    "def exampleDraw():\n",
    "    q = QuantumRegister(2, name=\"x\")    # Allocating 2 qubits\n",
    "    c = ClassicalRegister(2, name=\"y\")  # Allocating 2 bits\n",
    "\n",
    "    # We build a quantum circuit with both registers.\n",
    "    # By default, everything is initialized to 0 and to |0>\n",
    "    qc = QuantumCircuit(q,c)\n",
    "\n",
    "    qc.h(q[0])        # Applying Hadamard on qubit 0:\n",
    "    qc.x(q[0])        # Applying X on qubit 0:\n",
    "    qc.z(q[0])        # Applying z on qubit 0:\n",
    "    qc.cx(q[0],q[1])  # Applying CNOT on qubits 0 and 1:\n",
    "    qc.measure(q, c)  # Mesure of all of register q, storing results in c.\n",
    "                      # This is still part of the circuit !\n",
    "    print(qc)         # print the circuit in ASCII form\n",
    "\n",
    "exampleDraw()"
   ]
  },
  {
   "cell_type": "markdown",
   "id": "df2bf9ba-416b-4f3a-816c-1b1d0b913c52",
   "metadata": {},
   "source": [
    "Getting the output state vector after running a circuit "
   ]
  },
  {
   "cell_type": "code",
   "execution_count": 3,
   "id": "6f11b6fb-a856-4563-bd8c-ebc32e768d2f",
   "metadata": {},
   "outputs": [
    {
     "name": "stdout",
     "output_type": "stream",
     "text": [
      " 0.707 +  0.000j |0011>\n",
      " 0.707 +  0.000j |1111>\n"
     ]
    }
   ],
   "source": [
    "def exampleStateVector():\n",
    "    q1 = QuantumRegister(3, name=\"q1\")\n",
    "    q2 = QuantumRegister(1, name=\"q2\")\n",
    "    qc = QuantumCircuit(q1,q2)\n",
    "    \n",
    "    qc.x(q1[0])\n",
    "    qc.x(q1[1])\n",
    "    qc.h(q2[0])\n",
    "    qc.cx(q2[0],q1[2])\n",
    "\n",
    "    runStateVector(qc)\n",
    "\n",
    "exampleStateVector()"
   ]
  },
  {
   "cell_type": "markdown",
   "id": "62087b01-37c5-4c60-aa42-4171d208a58c",
   "metadata": {},
   "source": [
    "Getting a probability distribution"
   ]
  },
  {
   "cell_type": "code",
   "execution_count": 11,
   "id": "57dc5eb5-2c76-402b-955a-55d964e6adde",
   "metadata": {},
   "outputs": [
    {
     "name": "stdout",
     "output_type": "stream",
     "text": [
      "{'111': 480, '001': 520}\n"
     ]
    }
   ],
   "source": [
    "def exampleSample():\n",
    "    q = QuantumRegister(3, name=\"q1\")\n",
    "    c = ClassicalRegister(3)\n",
    "    qc = QuantumCircuit(q,c)\n",
    "    \n",
    "    qc.x(q[0])\n",
    "    qc.h(q[1])\n",
    "    qc.cx(q[1],q[2])\n",
    "    qc.measure(q,c)\n",
    "\n",
    "    return runSample(qc,1000)\n",
    "\n",
    "print(exampleSample())"
   ]
  },
  {
   "cell_type": "markdown",
   "id": "f7e5e544-0b2c-47e2-ab30-50e51922475f",
   "metadata": {},
   "source": [
    "### Note how the bits are written in the inverse order with respect to what we saw in class!"
   ]
  },
  {
   "cell_type": "markdown",
   "id": "d94f575d-504a-4a3f-96d1-d3fe96df63e4",
   "metadata": {},
   "source": [
    "# Exercices"
   ]
  },
  {
   "cell_type": "markdown",
   "id": "e41cded4-0e5a-4dd7-a4ab-6eb4eaef3549",
   "metadata": {},
   "source": [
    "## Exercice 1\n",
    "\n",
    "1. Build a circuit producing the 4-qubit state \n",
    "\n",
    "$$\\frac1{\\sqrt2}(|0000\\rangle - |1111\\rangle)$$\n",
    "\n",
    "2. Make it parametric: we want to be able to make an `n`-qubit state of that form\n",
    "\n",
    "3. Try it for various `n` and make sure it works\n",
    "\n",
    "4. output a sample (therefore: the result of a series of measures): can you see the $-1$ coefficient in front of the $|111..1\\rangle$? Can you say why?"
   ]
  },
  {
   "cell_type": "code",
   "execution_count": null,
   "id": "7758577f-16f0-49fe-b18a-f75b849004ac",
   "metadata": {},
   "outputs": [
    {
     "name": "stdout",
     "output_type": "stream",
     "text": [
      "     ┌───┐               ┌───┐\n",
      "q_0: ┤ H ├──■────■────■──┤ Z ├\n",
      "     └───┘┌─┴─┐  │    │  └───┘\n",
      "q_1: ─────┤ X ├──┼────┼───────\n",
      "          └───┘┌─┴─┐  │       \n",
      "q_2: ──────────┤ X ├──┼───────\n",
      "               └───┘┌─┴─┐     \n",
      "q_3: ───────────────┤ X ├─────\n",
      "                    └───┘     \n",
      "c: 4/═════════════════════════\n",
      "                              \n",
      " 0.707 +  0.000j |0000>\n",
      "-0.707 +  0.000j |1111>\n"
     ]
    },
    {
     "ename": "NameError",
     "evalue": "name 'q' is not defined",
     "output_type": "error",
     "traceback": [
      "\u001b[0;31m---------------------------------------------------------------------------\u001b[0m",
      "\u001b[0;31mNameError\u001b[0m                                 Traceback (most recent call last)",
      "Cell \u001b[0;32mIn[9], line 25\u001b[0m\n\u001b[1;32m     23\u001b[0m \u001b[38;5;28mprint\u001b[39m(qc)\n\u001b[1;32m     24\u001b[0m runStateVector(qc)\n\u001b[0;32m---> 25\u001b[0m qc\u001b[38;5;241m.\u001b[39mmeasure(\u001b[43mq\u001b[49m,c)\n\u001b[1;32m     26\u001b[0m runSample(qc,\u001b[38;5;241m1000\u001b[39m)\n",
      "\u001b[0;31mNameError\u001b[0m: name 'q' is not defined"
     ]
    }
   ],
   "source": [
    "def create_bell_state(n):\n",
    "    \"\"\"\n",
    "    Create a quantum circuit that generates the n-qubit Bell-like state:\n",
    "    (|000...000⟩ - |111...111⟩) / sqrt(2)\n",
    "    \"\"\"\n",
    "    qr = QuantumRegister(n, name=\"q\")  # Quantum Register with n qubits\n",
    "    cr = ClassicalRegister(n, name=\"c\")  # Classical Register with n bits\n",
    "    qc = QuantumCircuit(qr, cr)\n",
    "\n",
    "    # Apply Hadamard gate to the first qubit\n",
    "    qc.h(qr[0])\n",
    "\n",
    "    # Apply CNOT gates from the first qubit to all others\n",
    "    for i in range(1, n):\n",
    "        qc.cx(qr[0], qr[i])\n",
    "\n",
    "    # Apply a Z gate to introduce the negative sign\n",
    "    qc.z(qr[0])\n",
    "    qc.measure(qr,cr)\n",
    "\n",
    "    return qc\n",
    "\n",
    "qc = create_bell_state(4)\n",
    "print(qc)\n",
    "runStateVector(qc)\n",
    "runSample(qc,1000)"
   ]
  },
  {
   "cell_type": "markdown",
   "id": "35056939-924e-406b-8444-74dfe43ff8d5",
   "metadata": {},
   "source": [
    "## Exercice 2\n",
    "\n",
    "Remember the first part of this lab session, done on paper. We were composing Toffoli gates to produce multi-controlled X-gates. \n",
    "\n",
    "In QisKit, Toffoli gates are `.ccx()`\n",
    "\n",
    "1. Implement the \"bogus\" circuit and double-check what we discussed. You will need to generate an entangled state as above!\n",
    "\n",
    "2. Now, implement the \"correct\" version and check that the ancilla wire is separated from the other registers.\n",
    "\n"
   ]
  },
  {
   "cell_type": "code",
   "execution_count": null,
   "id": "7576e8f7-35a1-415a-b27f-3e04ac207a87",
   "metadata": {},
   "outputs": [],
   "source": []
  },
  {
   "cell_type": "markdown",
   "id": "2e960499-34ad-4022-b29e-c83ccad77ed1",
   "metadata": {},
   "source": [
    "## Exercice 3\n",
    "\n",
    "Implement \n",
    "\n",
    "Remember the discussion of the last lecture about the decomposition of a Toffoli gate into controlled-S gates. Knowing that controlled-S gates `.cs()`, use what was done in the previous exercice to implement\n",
    "\n",
    "* a C-C-C-X\n",
    "* using only 2-qubit gates\n",
    "\n",
    "Print the resulting circuit, and check that it indeed works.\n"
   ]
  },
  {
   "cell_type": "code",
   "execution_count": null,
   "id": "c438b47d-053d-4418-a039-2cd382876dd0",
   "metadata": {},
   "outputs": [],
   "source": []
  },
  {
   "attachments": {
    "00b11c55-360d-49d2-a4a6-7f8fab662c09.png": {
     "image/png": "[encoded data removed]"
    }
   },
   "cell_type": "markdown",
   "id": "76a06374-446c-4584-9e9b-3fe98801a95e",
   "metadata": {},
   "source": [
    "## Exercice 4 : Deutsch-Josza\n",
    "\n",
    "Suppose that we are given the set-function $f:\\text{bool}^{n}\\rightarrow \\text{bool}$, with the promise that $f$ is either constant or balanced (i.e. the sets of inputs mapping to $0$ and $1$ are of equal size). We are looking for an algorithm deciding on the status of $f$: is it constant or balanced?\n",
    "\n",
    "In quantum computation, it is possible to answer the question with a circuit with the shape:\n",
    "\n",
    "![image.png](attachment:00b11c55-360d-49d2-a4a6-7f8fab662c09.png)\n",
    "\n",
    "Run the circuit below, and measure the $n$ first qubits.  $f$ est constant if $|0...0\\rangle$ was measured, and balanced otherwise. This requires one single run of the algorithm!\n",
    "\n",
    "The goal of this exercice is to implement this algorithm. For this, we are going to use a function $f$ of the form\n",
    "$$\n",
    "f(x_1,...x_n) = x_{k_1}\\oplus...\\oplus x_{k_m}\n",
    "$$\n",
    "\n",
    "1. When is such an $f$ constant ? balanced ?\n",
    "\n",
    "2. How would you implement $U_f$ ?\n",
    "\n",
    "3. Test the algorithm for a few (valid) functions $f$ on $5$ wires. \n"
   ]
  },
  {
   "cell_type": "code",
   "execution_count": null,
   "id": "5c36efd8-9963-4581-953d-7cdde0ab1f99",
   "metadata": {},
   "outputs": [],
   "source": []
  }
 ],
 "metadata": {
  "kernelspec": {
   "display_name": "qiskit_env",
   "language": "python",
   "name": "python3"
  },
  "language_info": {
   "codemirror_mode": {
    "name": "ipython",
    "version": 3
   },
   "file_extension": ".py",
   "mimetype": "text/x-python",
   "name": "python",
   "nbconvert_exporter": "python",
   "pygments_lexer": "ipython3",
   "version": "3.13.2"
  }
 },
 "nbformat": 4,
 "nbformat_minor": 5
}
